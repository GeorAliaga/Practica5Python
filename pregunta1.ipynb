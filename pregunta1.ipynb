{
 "cells": [
  {
   "cell_type": "code",
   "execution_count": 2,
   "metadata": {},
   "outputs": [
    {
     "data": {
      "text/html": [
       "<div>\n",
       "<style scoped>\n",
       "    .dataframe tbody tr th:only-of-type {\n",
       "        vertical-align: middle;\n",
       "    }\n",
       "\n",
       "    .dataframe tbody tr th {\n",
       "        vertical-align: top;\n",
       "    }\n",
       "\n",
       "    .dataframe thead th {\n",
       "        text-align: right;\n",
       "    }\n",
       "</style>\n",
       "<table border=\"1\" class=\"dataframe\">\n",
       "  <thead>\n",
       "    <tr style=\"text-align: right;\">\n",
       "      <th></th>\n",
       "      <th>room_id</th>\n",
       "      <th>host_id</th>\n",
       "      <th>room_type</th>\n",
       "      <th>neighborhood</th>\n",
       "      <th>reviews</th>\n",
       "      <th>overall_satisfaction</th>\n",
       "      <th>accommodates</th>\n",
       "      <th>bedrooms</th>\n",
       "      <th>price</th>\n",
       "    </tr>\n",
       "  </thead>\n",
       "  <tbody>\n",
       "    <tr>\n",
       "      <th>0</th>\n",
       "      <td>6499</td>\n",
       "      <td>14455</td>\n",
       "      <td>Entire home/apt</td>\n",
       "      <td>Belém</td>\n",
       "      <td>8</td>\n",
       "      <td>5.0</td>\n",
       "      <td>2</td>\n",
       "      <td>1.0</td>\n",
       "      <td>57.0</td>\n",
       "    </tr>\n",
       "    <tr>\n",
       "      <th>1</th>\n",
       "      <td>17031</td>\n",
       "      <td>66015</td>\n",
       "      <td>Entire home/apt</td>\n",
       "      <td>Alvalade</td>\n",
       "      <td>0</td>\n",
       "      <td>0.0</td>\n",
       "      <td>2</td>\n",
       "      <td>1.0</td>\n",
       "      <td>46.0</td>\n",
       "    </tr>\n",
       "    <tr>\n",
       "      <th>2</th>\n",
       "      <td>25659</td>\n",
       "      <td>107347</td>\n",
       "      <td>Entire home/apt</td>\n",
       "      <td>Santa Maria Maior</td>\n",
       "      <td>63</td>\n",
       "      <td>5.0</td>\n",
       "      <td>3</td>\n",
       "      <td>1.0</td>\n",
       "      <td>69.0</td>\n",
       "    </tr>\n",
       "    <tr>\n",
       "      <th>3</th>\n",
       "      <td>29248</td>\n",
       "      <td>125768</td>\n",
       "      <td>Entire home/apt</td>\n",
       "      <td>Santa Maria Maior</td>\n",
       "      <td>225</td>\n",
       "      <td>4.5</td>\n",
       "      <td>4</td>\n",
       "      <td>1.0</td>\n",
       "      <td>58.0</td>\n",
       "    </tr>\n",
       "    <tr>\n",
       "      <th>4</th>\n",
       "      <td>29396</td>\n",
       "      <td>126415</td>\n",
       "      <td>Entire home/apt</td>\n",
       "      <td>Santa Maria Maior</td>\n",
       "      <td>132</td>\n",
       "      <td>5.0</td>\n",
       "      <td>4</td>\n",
       "      <td>1.0</td>\n",
       "      <td>67.0</td>\n",
       "    </tr>\n",
       "  </tbody>\n",
       "</table>\n",
       "</div>"
      ],
      "text/plain": [
       "   room_id  host_id        room_type       neighborhood  reviews  \\\n",
       "0     6499    14455  Entire home/apt              Belém        8   \n",
       "1    17031    66015  Entire home/apt           Alvalade        0   \n",
       "2    25659   107347  Entire home/apt  Santa Maria Maior       63   \n",
       "3    29248   125768  Entire home/apt  Santa Maria Maior      225   \n",
       "4    29396   126415  Entire home/apt  Santa Maria Maior      132   \n",
       "\n",
       "   overall_satisfaction  accommodates  bedrooms  price  \n",
       "0                   5.0             2       1.0   57.0  \n",
       "1                   0.0             2       1.0   46.0  \n",
       "2                   5.0             3       1.0   69.0  \n",
       "3                   4.5             4       1.0   58.0  \n",
       "4                   5.0             4       1.0   67.0  "
      ]
     },
     "execution_count": 2,
     "metadata": {},
     "output_type": "execute_result"
    }
   ],
   "source": [
    "import pandas as pd\n",
    "df_airbnb = pd.read_csv(\"./data/airbnb.csv\")\n",
    "\n",
    "df_airbnb.head()"
   ]
  },
  {
   "cell_type": "code",
   "execution_count": 3,
   "metadata": {},
   "outputs": [
    {
     "data": {
      "text/plain": [
       "room_id                   int64\n",
       "host_id                   int64\n",
       "room_type                object\n",
       "neighborhood             object\n",
       "reviews                   int64\n",
       "overall_satisfaction    float64\n",
       "accommodates              int64\n",
       "bedrooms                float64\n",
       "price                   float64\n",
       "dtype: object"
      ]
     },
     "execution_count": 3,
     "metadata": {},
     "output_type": "execute_result"
    }
   ],
   "source": [
    "df_airbnb.dtypes"
   ]
  },
  {
   "cell_type": "code",
   "execution_count": 5,
   "metadata": {},
   "outputs": [
    {
     "name": "stdout",
     "output_type": "stream",
     "text": [
      "     room_id       neighborhood        room_type  accommodates  bedrooms  \\\n",
      "120   176153       Misericórdia  Entire home/apt             4       2.0   \n",
      "16     44043  Santa Maria Maior  Entire home/apt             7       3.0   \n",
      "140   202150  Santa Maria Maior  Entire home/apt             4       2.0   \n",
      "\n",
      "     reviews  overall_satisfaction  price  \n",
      "120      438                   5.0  102.0  \n",
      "16       316                   5.0   80.0  \n",
      "140      274                   5.0   62.0  \n"
     ]
    }
   ],
   "source": [
    "aliciaprefiere = df_airbnb[\n",
    "    (df_airbnb['accommodates'] >= 4) &  \n",
    "    (df_airbnb['bedrooms'] >= 2) &  \n",
    "    (df_airbnb['reviews'] > 10) &  \n",
    "    (df_airbnb['overall_satisfaction'] > 4.0) \n",
    "]\n",
    "\n",
    "\n",
    "aliciaprefiere = aliciaprefiere.sort_values(\n",
    "    by=['overall_satisfaction', 'reviews'],\n",
    "    ascending=[False, False]\n",
    ")\n",
    "\n",
    "\n",
    "resultados = aliciaprefiere.head(3)\n",
    "\n",
    "print(resultados[['room_id', 'neighborhood', 'room_type', 'accommodates', 'bedrooms', 'reviews', 'overall_satisfaction', 'price']])\n"
   ]
  },
  {
   "cell_type": "code",
   "execution_count": 10,
   "metadata": {},
   "outputs": [],
   "source": [
    "import pandas as pd\n",
    "\n",
    "ids_roberto = [97503]\n",
    "ids_clara = [90387]\n",
    "\n",
    "robertoExcel = df_airbnb[df_airbnb['room_id'].isin(ids_roberto)]\n",
    "claraExcel = df_airbnb[df_airbnb['room_id'].isin(ids_clara)]\n",
    "\n",
    "archivo = pd.concat([robertoExcel, claraExcel])\n",
    "\n",
    "archivo.to_excel(\"roberto.xls\", index=False, engine='openpyxl') \n"
   ]
  },
  {
   "cell_type": "code",
   "execution_count": 11,
   "metadata": {},
   "outputs": [
    {
     "name": "stdout",
     "output_type": "stream",
     "text": [
      "        room_id    host_id    room_type       neighborhood  price  \\\n",
      "1010    1179457    5799522  Shared room      Santo António   10.0   \n",
      "3562    5557699   28812904  Shared room  Santa Maria Maior   10.0   \n",
      "7584   13116032   72951043  Shared room            Arroios   10.0   \n",
      "13148  19314160  135270245  Shared room        Santa Clara   10.0   \n",
      "9065   14933182   91501272  Shared room      Santo António   11.0   \n",
      "4353    6728244   28812904  Shared room  Santa Maria Maior   11.0   \n",
      "5616    9317561   48360716  Shared room            Arroios   11.0   \n",
      "6640   11693356   28812904  Shared room  Santa Maria Maior   11.0   \n",
      "6641   11693442   28812904  Shared room  Santa Maria Maior   11.0   \n",
      "8908   14708916   91501272  Shared room      Santo António   11.0   \n",
      "\n",
      "       overall_satisfaction  \n",
      "1010                    4.0  \n",
      "3562                    4.0  \n",
      "7584                    0.0  \n",
      "13148                   0.0  \n",
      "9065                    5.0  \n",
      "4353                    4.5  \n",
      "5616                    4.5  \n",
      "6640                    4.5  \n",
      "6641                    4.5  \n",
      "8908                    4.5  \n"
     ]
    }
   ],
   "source": [
    "import pandas as pd\n",
    "\n",
    "shared_rooms = df_airbnb[(df_airbnb['room_type'] == 'Shared room') & (df_airbnb['price'] <= 50)]\n",
    "\n",
    "sorted_shared_rooms = shared_rooms.sort_values(by=['price', 'overall_satisfaction'], ascending=[True, False])\n",
    "\n",
    "top_10_shared_rooms = sorted_shared_rooms.head(10)\n",
    "\n",
    "print(top_10_shared_rooms[['room_id', 'host_id', 'room_type', 'neighborhood', 'price', 'overall_satisfaction']])\n"
   ]
  }
 ],
 "metadata": {
  "kernelspec": {
   "display_name": "Python 3",
   "language": "python",
   "name": "python3"
  },
  "language_info": {
   "codemirror_mode": {
    "name": "ipython",
    "version": 3
   },
   "file_extension": ".py",
   "mimetype": "text/x-python",
   "name": "python",
   "nbconvert_exporter": "python",
   "pygments_lexer": "ipython3",
   "version": "3.10.13"
  }
 },
 "nbformat": 4,
 "nbformat_minor": 2
}
